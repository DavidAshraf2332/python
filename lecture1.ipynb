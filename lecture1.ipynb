{
 "cells": [
  {
   "cell_type": "markdown",
   "metadata": {
    "id": "ztOSGe78z4NV"
   },
   "source": [
    "# Managing a Simple Inventory System"
   ]
  },
  {
   "cell_type": "code",
   "execution_count": 1,
   "metadata": {
    "colab": {
     "base_uri": "https://localhost:8080/"
    },
    "id": "jmLTQpK7zvwO",
    "outputId": "f521ce1c-d588-4bcc-abc7-5ff407923660"
   },
   "outputs": [
    {
     "name": "stdout",
     "output_type": "stream",
     "text": [
      "sold for 2 from product name : 'iphone' in a quantit : 18\n",
      "refund 'iphone' and new quantity 20 \n"
     ]
    }
   ],
   "source": [
    "class product:\n",
    "  def __init__(self,name,price,quantity):\n",
    "    self.name = name\n",
    "    self.price = price\n",
    "    self.id = id\n",
    "    self.quantity = quantity\n",
    "  def sell(self,amount):\n",
    "    if amount<= self.quantity:\n",
    "      self.quantity -= amount\n",
    "      return(f\"sold for {amount} from product name : '{self.name}' in a quantit : {self.quantity}\")\n",
    "    else:\n",
    "      return(f\"not enough this product '{self.name}' to sell\")\n",
    "  def refund(self,amount):\n",
    "    self.quantity += amount\n",
    "    return(f\"refund '{self.name}' and new quantity {self.quantity} \")\n",
    "\n",
    "product1 = product(\"iphone\",25000,20)\n",
    "print(product1.sell(2))  \n",
    "print(product1.refund(2))"
   ]
  },
  {
   "cell_type": "markdown",
   "metadata": {
    "id": "e3oNmsI2z8kj"
   },
   "source": [
    "# Simple Calculator Class"
   ]
  },
  {
   "cell_type": "code",
   "execution_count": 5,
   "metadata": {
    "colab": {
     "base_uri": "https://localhost:8080/"
    },
    "id": "GrGS4ubm0AFD",
    "outputId": "75b9843f-0798-4aff-fa58-ebf86d73df18"
   },
   "outputs": [
    {
     "name": "stdout",
     "output_type": "stream",
     "text": [
      "11\n",
      "1.2\n",
      "1\n",
      "30\n"
     ]
    }
   ],
   "source": [
    "class calc:\n",
    "  def add(self,a,b):\n",
    "    return a+b\n",
    "  def sub(self,a,b):\n",
    "    return a-b\n",
    "  def mul(self,a,b):\n",
    "    return a*b\n",
    "  def div(self,a,b):\n",
    "    if b == 0 :\n",
    "        return(\"ERROR\")\n",
    "    else:\n",
    "        return a/b       \n",
    "calc1 = calc()\n",
    "print(calc1.add(6,5))\n",
    "print(calc1.div(6,5))\n",
    "print(calc1.sub(6,5))\n",
    "print(calc1.mul(6,5))"
   ]
  },
  {
   "cell_type": "markdown",
   "metadata": {
    "id": "KLlB1ndI0E9z"
   },
   "source": [
    "# Creating a Student Management System\n"
   ]
  },
  {
   "cell_type": "code",
   "execution_count": 6,
   "metadata": {
    "colab": {
     "base_uri": "https://localhost:8080/"
    },
    "id": "bHVBM10b0Gzc",
    "outputId": "753c7b0d-6d7f-44c2-d1ef-e5113b497570"
   },
   "outputs": [
    {
     "name": "stdout",
     "output_type": "stream",
     "text": [
      "ID : David\n",
      "Name : 23\n",
      "Age : 21\n",
      "The time i take to study 'NLP' at 120\n"
     ]
    }
   ],
   "source": [
    "class student:\n",
    "    def __init__(self, id, name, age):\n",
    "        self.id = id\n",
    "        self.name = name\n",
    "        self.age = age\n",
    "    def study(self,time,course_name):\n",
    "      self.course_name = course_name\n",
    "      self.time = time\n",
    "      return(f\"The time i take to study '{course_name}' at {time}\")\n",
    "    def display(self):\n",
    "        return(f\"ID : {self.id}\\nName : {self.name}\\nAge : {self.age}\")\n",
    "student1 = student(\"David\",23,21)\n",
    "print(student1.display())\n",
    "print(student1.study(120,\"NLP\"))"
   ]
  },
  {
   "cell_type": "markdown",
   "metadata": {
    "id": "Gp48XfCR0I_c"
   },
   "source": [
    "# Modeling a Bank Account\n"
   ]
  },
  {
   "cell_type": "code",
   "execution_count": 7,
   "metadata": {
    "id": "vw1q3ooy0LO8"
   },
   "outputs": [
    {
     "name": "stdout",
     "output_type": "stream",
     "text": [
      "Deposited 1000 and new balance is : 1000\n",
      "withdraw 500 and new balance is : 500\n",
      "in your balance not enough\n"
     ]
    }
   ],
   "source": [
    "class Bank:\n",
    "  def __init__(self,balance=0):\n",
    "    self.balance = balance\n",
    "  def deposit(self,amount):\n",
    "    self.balance += amount\n",
    "    print(f\"Deposited {amount} and new balance is : {self.balance}\")\n",
    "  def withdraw(self,amount):\n",
    "    if amount <= self.balance:\n",
    "      self.balance -= amount  \n",
    "      print(f\"withdraw {amount} and new balance is : {self.balance}\")\n",
    "    else:\n",
    "      print(\"in your balance not enough\")\n",
    "bank1 = Bank()\n",
    "bank1.deposit(1000)\n",
    "bank1.withdraw(500)\n",
    "bank1.withdraw(550)"
   ]
  },
  {
   "cell_type": "markdown",
   "metadata": {
    "id": "-4--ZqEe0OQ8"
   },
   "source": [
    "# Modeling a Simple Library System\n"
   ]
  },
  {
   "cell_type": "code",
   "execution_count": 10,
   "metadata": {
    "id": "v36U_UHD0POE"
   },
   "outputs": [
    {
     "name": "stdout",
     "output_type": "stream",
     "text": [
      "Added book: 1984\n",
      "Added book: The Old Man and the Sea\n",
      "Library books:\n",
      "Title: 1984, Author: George Orwell\n",
      "Title: The Old Man and the Sea, Author: Ernest Hemingway\n"
     ]
    }
   ],
   "source": [
    "class Book:\n",
    "    def __init__(self, title, author):\n",
    "        self.title = title\n",
    "        self.author = author\n",
    "\n",
    "    def display(self):\n",
    "        print(f\"Title: {self.title}, Author: {self.author}\")\n",
    "\n",
    "\n",
    "class Library:\n",
    "    def __init__(self):\n",
    "        self.books = []\n",
    "\n",
    "    def add_book(self, book):\n",
    "        self.books.append(book)\n",
    "        print(f\"Added book: {book.title}\")\n",
    "\n",
    "    def list_books(self):\n",
    "        print(\"Library books:\")\n",
    "        for book in self.books:\n",
    "            book.display()\n",
    "\n",
    "book1 = Book(\"1984\", \"George Orwell\")\n",
    "book2 = Book(\"The Old Man and the Sea\", \"Ernest Hemingway\")\n",
    "\n",
    "library = Library()\n",
    "library.add_book(book1)\n",
    "library.add_book(book2)\n",
    "library.list_books()\n"
   ]
  },
  {
   "cell_type": "markdown",
   "metadata": {
    "id": "eehFyGAs0RY8"
   },
   "source": [
    "# Simple Voting System"
   ]
  },
  {
   "cell_type": "code",
   "execution_count": 11,
   "metadata": {
    "id": "SWD1UiMl0Syj"
   },
   "outputs": [
    {
     "name": "stdout",
     "output_type": "stream",
     "text": [
      "Alice, Votes: 2\n",
      "Bob, Votes: 1\n"
     ]
    }
   ],
   "source": [
    "class Candidate:\n",
    "    def __init__(self, name):\n",
    "        self.name = name\n",
    "        self.votes = 0\n",
    "\n",
    "    def add_vote(self):\n",
    "        self.votes += 1\n",
    "\n",
    "    def display(self):\n",
    "        print(f\"{self.name}, Votes: {self.votes}\")\n",
    "\n",
    "candidate1 = Candidate(\"Alice\")\n",
    "candidate2 = Candidate(\"Bob\")\n",
    "\n",
    "candidate1.add_vote()\n",
    "candidate1.add_vote()\n",
    "candidate2.add_vote()\n",
    "\n",
    "candidate1.display()\n",
    "candidate2.display()"
   ]
  },
  {
   "cell_type": "markdown",
   "metadata": {
    "id": "Vnb0BYfc0VBM"
   },
   "source": [
    "# Simple Temperature Converter"
   ]
  },
  {
   "cell_type": "code",
   "execution_count": 12,
   "metadata": {
    "id": "KjB3N91N0V1r"
   },
   "outputs": [
    {
     "name": "stdout",
     "output_type": "stream",
     "text": [
      "Fahrenheit: 77.0\n",
      "Kelvin: 298.15\n"
     ]
    }
   ],
   "source": [
    "class TemperatureConverter:\n",
    "    def __init__(self, celsius):\n",
    "        self.celsius = celsius\n",
    "\n",
    "    def fahrenheit(self):\n",
    "        return (self.celsius * 9 / 5) + 32\n",
    "\n",
    "    def kelvin(self):\n",
    "        return self.celsius + 273.15\n",
    "\n",
    "temp = TemperatureConverter(25)\n",
    "print(\"Fahrenheit:\", temp.fahrenheit())\n",
    "print(\"Kelvin:\", temp.kelvin())\n"
   ]
  },
  {
   "cell_type": "markdown",
   "metadata": {
    "id": "MRua6w7D0X4E"
   },
   "source": [
    "# Modeling a Car Rental System\n"
   ]
  },
  {
   "cell_type": "code",
   "execution_count": 13,
   "metadata": {
    "id": "WsStIvIy0Ztz"
   },
   "outputs": [
    {
     "name": "stdout",
     "output_type": "stream",
     "text": [
      "Audi Q7 rented.\n",
      "Audi Q7 is already rented.\n",
      "Audi Q7 returned.\n",
      "Audi Q7 was not rented.\n"
     ]
    }
   ],
   "source": [
    "class Car:\n",
    "    def __init__(self, make, model, year):\n",
    "        self.make = make\n",
    "        self.model = model\n",
    "        self.year = year\n",
    "        self.is_rented = False\n",
    "\n",
    "    def rent(self):\n",
    "        if not self.is_rented:\n",
    "            self.is_rented = True\n",
    "            print(f\"{self.make} {self.model} rented.\")\n",
    "        else:\n",
    "            print(f\"{self.make} {self.model} is already rented.\")\n",
    "\n",
    "    def return_car(self):\n",
    "        if self.is_rented:\n",
    "            self.is_rented = False\n",
    "            print(f\"{self.make} {self.model} returned.\")\n",
    "        else:\n",
    "            print(f\"{self.make} {self.model} was not rented.\")\n",
    "\n",
    "car1 = Car(\"Audi\", \"Q7\", 2017)\n",
    "car1.rent()\n",
    "car1.rent()\n",
    "car1.return_car()\n",
    "car1.return_car()\n"
   ]
  },
  {
   "cell_type": "code",
   "execution_count": null,
   "metadata": {},
   "outputs": [],
   "source": []
  }
 ],
 "metadata": {
  "colab": {
   "provenance": []
  },
  "kernelspec": {
   "display_name": "Python 3 (ipykernel)",
   "language": "python",
   "name": "python3"
  },
  "language_info": {
   "codemirror_mode": {
    "name": "ipython",
    "version": 3
   },
   "file_extension": ".py",
   "mimetype": "text/x-python",
   "name": "python",
   "nbconvert_exporter": "python",
   "pygments_lexer": "ipython3",
   "version": "3.11.7"
  }
 },
 "nbformat": 4,
 "nbformat_minor": 4
}
